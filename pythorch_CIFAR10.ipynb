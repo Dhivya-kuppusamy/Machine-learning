{
  "cells": [
    {
      "cell_type": "markdown",
      "metadata": {
        "id": "view-in-github",
        "colab_type": "text"
      },
      "source": [
        "<a href=\"https://colab.research.google.com/github/Dhivya-kuppusamy/Machine-learning/blob/main/pythorch_CIFAR10.ipynb\" target=\"_parent\"><img src=\"https://colab.research.google.com/assets/colab-badge.svg\" alt=\"Open In Colab\"/></a>"
      ]
    },
    {
      "cell_type": "code",
      "execution_count": null,
      "metadata": {
        "id": "-ZEliOe4-jG3"
      },
      "outputs": [],
      "source": [
        "import torch\n",
        "import torch.nn as nn\n",
        "import torch.optim as optim\n",
        "from torchvision import datasets, transforms"
      ]
    },
    {
      "cell_type": "code",
      "execution_count": null,
      "metadata": {
        "id": "N6U8cvo--2c8"
      },
      "outputs": [],
      "source": [
        "class Neural(nn.Module):\n",
        "    def __init__(self):\n",
        "        super(Neural, self).__init__()\n",
        "        self.fc1 = nn.Linear(32 * 32 * 3, 128)  # Adjust input size for CIFAR-10\n",
        "        self.fc2 = nn.Linear(128, 64)  # Added hidden layer\n",
        "        self.fc3 = nn.Linear(64, 10)   # Output layer\n",
        "        self.dropout = nn.Dropout(0.3)  # Adding dropout\n",
        "\n",
        "    def forward(self, x):\n",
        "        x = x.view(-1, 32 * 32 * 3)  # Adjust input size for CIFAR-10\n",
        "        x = torch.relu(self.fc1(x))\n",
        "        x = self.dropout(x)  # Applying dropout\n",
        "        x = torch.relu(self.fc2(x))  # Apply activation to the hidden layer\n",
        "        x = self.fc3(x)\n",
        "        return x"
      ]
    },
    {
      "cell_type": "code",
      "execution_count": null,
      "metadata": {
        "colab": {
          "base_uri": "https://localhost:8080/"
        },
        "id": "_kA90QSl_AcF",
        "outputId": "bb3356c3-1acf-406d-c7bd-87d4ca7ed26c"
      },
      "outputs": [
        {
          "name": "stdout",
          "output_type": "stream",
          "text": [
            "Files already downloaded and verified\n",
            "Files already downloaded and verified\n"
          ]
        }
      ],
      "source": [
        "transform = transforms.Compose([\n",
        "    transforms.ToTensor(),\n",
        "    transforms.Normalize((0.5, 0.5, 0.5), (0.5, 0.5, 0.5))\n",
        "])\n",
        "\n",
        "train_dataset = datasets.CIFAR10(root='./data', train=True, download=True, transform=transform)\n",
        "test_dataset = datasets.CIFAR10(root='./data', train=False, download=True, transform=transform)\n",
        "\n",
        "train_loader = torch.utils.data.DataLoader(train_dataset, batch_size=64, shuffle=True)\n",
        "test_loader = torch.utils.data.DataLoader(test_dataset, batch_size=64, shuffle=False)"
      ]
    },
    {
      "cell_type": "code",
      "execution_count": null,
      "metadata": {
        "id": "NWXKDYqs_E1h"
      },
      "outputs": [],
      "source": [
        "net = ConvNet()"
      ]
    },
    {
      "cell_type": "code",
      "execution_count": null,
      "metadata": {
        "id": "V5oVRaIb_Jhx"
      },
      "outputs": [],
      "source": [
        "criterion = nn.CrossEntropyLoss()\n",
        "optimizer = optim.Adam(net.parameters(), lr=0.001)"
      ]
    },
    {
      "cell_type": "code",
      "execution_count": null,
      "metadata": {
        "id": "pTTAJOcZ_L_O"
      },
      "outputs": [],
      "source": [
        "def calculate_accuracy(loader):\n",
        "    correct = 0\n",
        "    total = 0\n",
        "    with torch.no_grad():\n",
        "        for data in loader:\n",
        "            images, labels = data\n",
        "            outputs = net(images)\n",
        "            _, predicted = torch.max(outputs.data, 1)\n",
        "            total += labels.size(0)\n",
        "            correct += (predicted == labels).sum().item()\n",
        "    return (correct / total) * 100"
      ]
    },
    {
      "cell_type": "code",
      "execution_count": null,
      "metadata": {
        "colab": {
          "background_save": true,
          "base_uri": "https://localhost:8080/"
        },
        "id": "0-7N_OpJ_Osg",
        "outputId": "df54664f-fd4f-42be-a685-9278752a0831"
      },
      "outputs": [
        {
          "name": "stdout",
          "output_type": "stream",
          "text": [
            "[Epoch 1, Batch 100] Loss: 2.001\n",
            "[Epoch 1, Batch 200] Loss: 1.700\n",
            "[Epoch 1, Batch 300] Loss: 1.580\n",
            "[Epoch 1, Batch 400] Loss: 1.510\n",
            "[Epoch 1, Batch 500] Loss: 1.462\n",
            "[Epoch 1, Batch 600] Loss: 1.424\n",
            "[Epoch 1, Batch 700] Loss: 1.384\n",
            "[Epoch 2, Batch 100] Loss: 1.301\n",
            "[Epoch 2, Batch 200] Loss: 1.271\n",
            "[Epoch 2, Batch 300] Loss: 1.272\n",
            "[Epoch 2, Batch 400] Loss: 1.232\n",
            "[Epoch 2, Batch 500] Loss: 1.245\n",
            "[Epoch 2, Batch 600] Loss: 1.206\n",
            "[Epoch 2, Batch 700] Loss: 1.190\n",
            "[Epoch 3, Batch 100] Loss: 1.117\n",
            "[Epoch 3, Batch 200] Loss: 1.115\n",
            "[Epoch 3, Batch 300] Loss: 1.111\n",
            "[Epoch 3, Batch 400] Loss: 1.103\n",
            "[Epoch 3, Batch 500] Loss: 1.114\n",
            "[Epoch 3, Batch 600] Loss: 1.093\n",
            "[Epoch 3, Batch 700] Loss: 1.095\n",
            "[Epoch 4, Batch 100] Loss: 1.033\n",
            "[Epoch 4, Batch 200] Loss: 1.026\n",
            "[Epoch 4, Batch 300] Loss: 1.024\n",
            "[Epoch 4, Batch 400] Loss: 1.024\n",
            "[Epoch 4, Batch 500] Loss: 1.022\n",
            "[Epoch 4, Batch 600] Loss: 1.027\n",
            "[Epoch 4, Batch 700] Loss: 1.011\n",
            "[Epoch 5, Batch 100] Loss: 0.943\n",
            "[Epoch 5, Batch 200] Loss: 0.963\n",
            "[Epoch 5, Batch 300] Loss: 0.963\n",
            "[Epoch 5, Batch 400] Loss: 0.934\n",
            "[Epoch 5, Batch 500] Loss: 0.962\n",
            "[Epoch 5, Batch 600] Loss: 0.953\n",
            "[Epoch 5, Batch 700] Loss: 0.952\n",
            "[Epoch 6, Batch 100] Loss: 0.881\n",
            "[Epoch 6, Batch 200] Loss: 0.881\n",
            "[Epoch 6, Batch 300] Loss: 0.898\n",
            "[Epoch 6, Batch 400] Loss: 0.887\n",
            "[Epoch 6, Batch 500] Loss: 0.915\n",
            "[Epoch 6, Batch 600] Loss: 0.911\n",
            "[Epoch 6, Batch 700] Loss: 0.907\n",
            "[Epoch 7, Batch 100] Loss: 0.827\n",
            "[Epoch 7, Batch 200] Loss: 0.858\n",
            "[Epoch 7, Batch 300] Loss: 0.840\n",
            "[Epoch 7, Batch 400] Loss: 0.844\n",
            "[Epoch 7, Batch 500] Loss: 0.843\n",
            "[Epoch 7, Batch 600] Loss: 0.861\n",
            "[Epoch 7, Batch 700] Loss: 0.842\n",
            "[Epoch 8, Batch 100] Loss: 0.803\n",
            "[Epoch 8, Batch 200] Loss: 0.784\n",
            "[Epoch 8, Batch 300] Loss: 0.804\n",
            "[Epoch 8, Batch 400] Loss: 0.809\n",
            "[Epoch 8, Batch 500] Loss: 0.814\n",
            "[Epoch 8, Batch 600] Loss: 0.801\n",
            "[Epoch 8, Batch 700] Loss: 0.816\n",
            "[Epoch 9, Batch 100] Loss: 0.742\n",
            "[Epoch 9, Batch 200] Loss: 0.764\n",
            "[Epoch 9, Batch 300] Loss: 0.748\n",
            "[Epoch 9, Batch 400] Loss: 0.755\n",
            "[Epoch 9, Batch 500] Loss: 0.779\n",
            "[Epoch 9, Batch 600] Loss: 0.761\n",
            "[Epoch 9, Batch 700] Loss: 0.766\n",
            "[Epoch 10, Batch 100] Loss: 0.709\n",
            "[Epoch 10, Batch 200] Loss: 0.710\n",
            "[Epoch 10, Batch 300] Loss: 0.734\n",
            "[Epoch 10, Batch 400] Loss: 0.728\n",
            "[Epoch 10, Batch 500] Loss: 0.747\n",
            "[Epoch 10, Batch 600] Loss: 0.729\n",
            "[Epoch 10, Batch 700] Loss: 0.760\n"
          ]
        }
      ],
      "source": [
        "epochs = 10\n",
        "for epoch in range(epochs):\n",
        "    running_loss = 0.0\n",
        "    for i, data in enumerate(train_loader, 0):\n",
        "        inputs, labels = data\n",
        "        optimizer.zero_grad()\n",
        "\n",
        "        outputs = net(inputs)\n",
        "        loss = criterion(outputs, labels)\n",
        "        loss.backward()\n",
        "        optimizer.step()\n",
        "\n",
        "        running_loss += loss.item()\n",
        "        if i % 100 == 99:\n",
        "            print(f\"[Epoch {epoch + 1}, Batch {i + 1}] Loss: {running_loss / 100:.3f}\")\n",
        "            running_loss = 0.0"
      ]
    },
    {
      "cell_type": "code",
      "execution_count": null,
      "metadata": {
        "colab": {
          "background_save": true
        },
        "id": "s84rXfsP_Uhw",
        "outputId": "edcca132-eaec-40ba-c11a-8fe634b77c62"
      },
      "outputs": [
        {
          "name": "stdout",
          "output_type": "stream",
          "text": [
            "Epoch 10 - Training Accuracy: 76.27% | Test Accuracy: 66.92%\n"
          ]
        }
      ],
      "source": [
        "train_accuracy = calculate_accuracy(train_loader)\n",
        "test_accuracy = calculate_accuracy(test_loader)\n",
        "print(f\"Epoch {epoch + 1} - Training Accuracy: {train_accuracy:.2f}% | Test Accuracy: {test_accuracy:.2f}%\")"
      ]
    },
    {
      "cell_type": "code",
      "execution_count": null,
      "metadata": {
        "colab": {
          "background_save": true
        },
        "id": "46M5EHH9DEM_"
      },
      "outputs": [],
      "source": []
    }
  ],
  "metadata": {
    "colab": {
      "provenance": [],
      "authorship_tag": "ABX9TyM3NxofO3nfWY+4Kng9BxQa",
      "include_colab_link": true
    },
    "kernelspec": {
      "display_name": "Python 3",
      "name": "python3"
    },
    "language_info": {
      "name": "python"
    }
  },
  "nbformat": 4,
  "nbformat_minor": 0
}