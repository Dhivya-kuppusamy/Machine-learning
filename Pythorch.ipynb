{
  "nbformat": 4,
  "nbformat_minor": 0,
  "metadata": {
    "colab": {
      "provenance": [],
      "authorship_tag": "ABX9TyMBv5efZmobfw6DDaoCoqHc",
      "include_colab_link": true
    },
    "kernelspec": {
      "name": "python3",
      "display_name": "Python 3"
    },
    "language_info": {
      "name": "python"
    }
  },
  "cells": [
    {
      "cell_type": "markdown",
      "metadata": {
        "id": "view-in-github",
        "colab_type": "text"
      },
      "source": [
        "<a href=\"https://colab.research.google.com/github/Dhivya-kuppusamy/Machine-learning/blob/main/Pythorch.ipynb\" target=\"_parent\"><img src=\"https://colab.research.google.com/assets/colab-badge.svg\" alt=\"Open In Colab\"/></a>"
      ]
    },
    {
      "cell_type": "code",
      "execution_count": 1,
      "metadata": {
        "id": "f5m_frsI4VYK"
      },
      "outputs": [],
      "source": [
        "import torch\n",
        "import torchvision.datasets as datasets\n",
        "import torchvision.transforms as transforms\n",
        "import torch.nn as nn\n",
        "import torch.optim as optim"
      ]
    },
    {
      "cell_type": "code",
      "source": [
        "transform=transforms.Compose([transforms.ToTensor(),\n",
        "                              transforms.Normalize((0.1307,),(0.3081,))])"
      ],
      "metadata": {
        "id": "HnRb1Mg64bfo"
      },
      "execution_count": 2,
      "outputs": []
    },
    {
      "cell_type": "code",
      "source": [
        "train_dataset=datasets.MNIST('data',\n",
        "                             train=True,\n",
        "                             download=True,transform=transform)"
      ],
      "metadata": {
        "colab": {
          "base_uri": "https://localhost:8080/"
        },
        "id": "zZWiL5Fq4inM",
        "outputId": "b158426e-2f6a-4484-9184-ddc3c3925eab"
      },
      "execution_count": 3,
      "outputs": [
        {
          "output_type": "stream",
          "name": "stdout",
          "text": [
            "Downloading http://yann.lecun.com/exdb/mnist/train-images-idx3-ubyte.gz\n",
            "Downloading http://yann.lecun.com/exdb/mnist/train-images-idx3-ubyte.gz to data/MNIST/raw/train-images-idx3-ubyte.gz\n"
          ]
        },
        {
          "output_type": "stream",
          "name": "stderr",
          "text": [
            "100%|██████████| 9912422/9912422 [00:00<00:00, 79857922.07it/s]\n"
          ]
        },
        {
          "output_type": "stream",
          "name": "stdout",
          "text": [
            "Extracting data/MNIST/raw/train-images-idx3-ubyte.gz to data/MNIST/raw\n",
            "\n",
            "Downloading http://yann.lecun.com/exdb/mnist/train-labels-idx1-ubyte.gz\n",
            "Downloading http://yann.lecun.com/exdb/mnist/train-labels-idx1-ubyte.gz to data/MNIST/raw/train-labels-idx1-ubyte.gz\n"
          ]
        },
        {
          "output_type": "stream",
          "name": "stderr",
          "text": [
            "100%|██████████| 28881/28881 [00:00<00:00, 30894081.57it/s]\n"
          ]
        },
        {
          "output_type": "stream",
          "name": "stdout",
          "text": [
            "Extracting data/MNIST/raw/train-labels-idx1-ubyte.gz to data/MNIST/raw\n",
            "\n",
            "Downloading http://yann.lecun.com/exdb/mnist/t10k-images-idx3-ubyte.gz\n",
            "Downloading http://yann.lecun.com/exdb/mnist/t10k-images-idx3-ubyte.gz to data/MNIST/raw/t10k-images-idx3-ubyte.gz\n"
          ]
        },
        {
          "output_type": "stream",
          "name": "stderr",
          "text": [
            "100%|██████████| 1648877/1648877 [00:00<00:00, 21148738.87it/s]\n"
          ]
        },
        {
          "output_type": "stream",
          "name": "stdout",
          "text": [
            "Extracting data/MNIST/raw/t10k-images-idx3-ubyte.gz to data/MNIST/raw\n",
            "\n",
            "Downloading http://yann.lecun.com/exdb/mnist/t10k-labels-idx1-ubyte.gz\n",
            "Downloading http://yann.lecun.com/exdb/mnist/t10k-labels-idx1-ubyte.gz to data/MNIST/raw/t10k-labels-idx1-ubyte.gz\n"
          ]
        },
        {
          "output_type": "stream",
          "name": "stderr",
          "text": [
            "100%|██████████| 4542/4542 [00:00<00:00, 14132439.74it/s]\n"
          ]
        },
        {
          "output_type": "stream",
          "name": "stdout",
          "text": [
            "Extracting data/MNIST/raw/t10k-labels-idx1-ubyte.gz to data/MNIST/raw\n",
            "\n"
          ]
        }
      ]
    },
    {
      "cell_type": "code",
      "source": [
        "train_loader=torch.utils.data.DataLoader(train_dataset,\n",
        "                                         batch_size=64,\n",
        "                                         shuffle=True)"
      ],
      "metadata": {
        "id": "jl4xFcGA4l_e"
      },
      "execution_count": 4,
      "outputs": []
    },
    {
      "cell_type": "code",
      "source": [
        "class Neural(nn.Module):\n",
        "  def __init__(self):\n",
        "    super(Neural,self).__init__()\n",
        "    self.fc1=nn.Linear(28*28,128)\n",
        "    self.fc2=nn.Linear(128,10)\n",
        "  def forward(self,x):\n",
        "    x=x.view(-1,28*28)\n",
        "    x=torch.relu(self.fc1(x))\n",
        "    x=self.fc2(x)\n",
        "    return x\n",
        "net=Neural()"
      ],
      "metadata": {
        "id": "v4q6mNs74omY"
      },
      "execution_count": 5,
      "outputs": []
    },
    {
      "cell_type": "code",
      "source": [
        "criterion=nn.CrossEntropyLoss()\n",
        "optimizer=optim.SGD(net.parameters(),lr=0.01,momentum=0.5)\n"
      ],
      "metadata": {
        "id": "FQby-Cfq4qut"
      },
      "execution_count": 6,
      "outputs": []
    },
    {
      "cell_type": "code",
      "source": [
        "num_epochs=10\n",
        "\n",
        "for epoch in range(num_epochs):\n",
        "  for batch_idx,(data,target) in enumerate (train_loader):\n",
        "    optimizer.zero_grad()\n",
        "    output=net(data)\n",
        "    loss =criterion(output,target)\n",
        "    loss.backward()\n",
        "    optimizer.step()\n",
        "    if batch_idx % 100==0:\n",
        "      print('Train Epoch: {} [{}/{} ({:.0f}%)]\\tLoss: {:.6f}'.format(\n",
        "                epoch, batch_idx * len(data), len(train_loader.dataset),\n",
        "                100. * batch_idx / len(train_loader), loss.item()))\n"
      ],
      "metadata": {
        "colab": {
          "base_uri": "https://localhost:8080/"
        },
        "id": "4PdpKQZN4s-F",
        "outputId": "81569a8f-02d6-47fa-f77b-6f47d310ae37"
      },
      "execution_count": 7,
      "outputs": [
        {
          "output_type": "stream",
          "name": "stdout",
          "text": [
            "Train Epoch: 0 [0/60000 (0%)]\tLoss: 2.310011\n",
            "Train Epoch: 0 [6400/60000 (11%)]\tLoss: 0.639717\n",
            "Train Epoch: 0 [12800/60000 (21%)]\tLoss: 0.379902\n",
            "Train Epoch: 0 [19200/60000 (32%)]\tLoss: 0.351055\n",
            "Train Epoch: 0 [25600/60000 (43%)]\tLoss: 0.369810\n",
            "Train Epoch: 0 [32000/60000 (53%)]\tLoss: 0.360784\n",
            "Train Epoch: 0 [38400/60000 (64%)]\tLoss: 0.538671\n",
            "Train Epoch: 0 [44800/60000 (75%)]\tLoss: 0.269379\n",
            "Train Epoch: 0 [51200/60000 (85%)]\tLoss: 0.380347\n",
            "Train Epoch: 0 [57600/60000 (96%)]\tLoss: 0.362545\n",
            "Train Epoch: 1 [0/60000 (0%)]\tLoss: 0.318454\n",
            "Train Epoch: 1 [6400/60000 (11%)]\tLoss: 0.160000\n",
            "Train Epoch: 1 [12800/60000 (21%)]\tLoss: 0.447634\n",
            "Train Epoch: 1 [19200/60000 (32%)]\tLoss: 0.142887\n",
            "Train Epoch: 1 [25600/60000 (43%)]\tLoss: 0.347236\n",
            "Train Epoch: 1 [32000/60000 (53%)]\tLoss: 0.191235\n",
            "Train Epoch: 1 [38400/60000 (64%)]\tLoss: 0.163307\n",
            "Train Epoch: 1 [44800/60000 (75%)]\tLoss: 0.295772\n",
            "Train Epoch: 1 [51200/60000 (85%)]\tLoss: 0.148061\n",
            "Train Epoch: 1 [57600/60000 (96%)]\tLoss: 0.132557\n",
            "Train Epoch: 2 [0/60000 (0%)]\tLoss: 0.302728\n",
            "Train Epoch: 2 [6400/60000 (11%)]\tLoss: 0.227806\n",
            "Train Epoch: 2 [12800/60000 (21%)]\tLoss: 0.282773\n",
            "Train Epoch: 2 [19200/60000 (32%)]\tLoss: 0.162087\n",
            "Train Epoch: 2 [25600/60000 (43%)]\tLoss: 0.323332\n",
            "Train Epoch: 2 [32000/60000 (53%)]\tLoss: 0.235423\n",
            "Train Epoch: 2 [38400/60000 (64%)]\tLoss: 0.491913\n",
            "Train Epoch: 2 [44800/60000 (75%)]\tLoss: 0.130255\n",
            "Train Epoch: 2 [51200/60000 (85%)]\tLoss: 0.136657\n",
            "Train Epoch: 2 [57600/60000 (96%)]\tLoss: 0.274685\n",
            "Train Epoch: 3 [0/60000 (0%)]\tLoss: 0.109377\n",
            "Train Epoch: 3 [6400/60000 (11%)]\tLoss: 0.071262\n",
            "Train Epoch: 3 [12800/60000 (21%)]\tLoss: 0.080522\n",
            "Train Epoch: 3 [19200/60000 (32%)]\tLoss: 0.095830\n",
            "Train Epoch: 3 [25600/60000 (43%)]\tLoss: 0.124529\n",
            "Train Epoch: 3 [32000/60000 (53%)]\tLoss: 0.175260\n",
            "Train Epoch: 3 [38400/60000 (64%)]\tLoss: 0.074875\n",
            "Train Epoch: 3 [44800/60000 (75%)]\tLoss: 0.050956\n",
            "Train Epoch: 3 [51200/60000 (85%)]\tLoss: 0.072881\n",
            "Train Epoch: 3 [57600/60000 (96%)]\tLoss: 0.116925\n",
            "Train Epoch: 4 [0/60000 (0%)]\tLoss: 0.246378\n",
            "Train Epoch: 4 [6400/60000 (11%)]\tLoss: 0.105686\n",
            "Train Epoch: 4 [12800/60000 (21%)]\tLoss: 0.271990\n",
            "Train Epoch: 4 [19200/60000 (32%)]\tLoss: 0.112971\n",
            "Train Epoch: 4 [25600/60000 (43%)]\tLoss: 0.146952\n",
            "Train Epoch: 4 [32000/60000 (53%)]\tLoss: 0.195729\n",
            "Train Epoch: 4 [38400/60000 (64%)]\tLoss: 0.070919\n",
            "Train Epoch: 4 [44800/60000 (75%)]\tLoss: 0.082079\n",
            "Train Epoch: 4 [51200/60000 (85%)]\tLoss: 0.089078\n",
            "Train Epoch: 4 [57600/60000 (96%)]\tLoss: 0.029903\n",
            "Train Epoch: 5 [0/60000 (0%)]\tLoss: 0.130767\n",
            "Train Epoch: 5 [6400/60000 (11%)]\tLoss: 0.094289\n",
            "Train Epoch: 5 [12800/60000 (21%)]\tLoss: 0.152949\n",
            "Train Epoch: 5 [19200/60000 (32%)]\tLoss: 0.078751\n",
            "Train Epoch: 5 [25600/60000 (43%)]\tLoss: 0.103475\n",
            "Train Epoch: 5 [32000/60000 (53%)]\tLoss: 0.161437\n",
            "Train Epoch: 5 [38400/60000 (64%)]\tLoss: 0.111311\n",
            "Train Epoch: 5 [44800/60000 (75%)]\tLoss: 0.155913\n",
            "Train Epoch: 5 [51200/60000 (85%)]\tLoss: 0.154137\n",
            "Train Epoch: 5 [57600/60000 (96%)]\tLoss: 0.053441\n",
            "Train Epoch: 6 [0/60000 (0%)]\tLoss: 0.102261\n",
            "Train Epoch: 6 [6400/60000 (11%)]\tLoss: 0.089206\n",
            "Train Epoch: 6 [12800/60000 (21%)]\tLoss: 0.071373\n",
            "Train Epoch: 6 [19200/60000 (32%)]\tLoss: 0.146643\n",
            "Train Epoch: 6 [25600/60000 (43%)]\tLoss: 0.054830\n",
            "Train Epoch: 6 [32000/60000 (53%)]\tLoss: 0.125114\n",
            "Train Epoch: 6 [38400/60000 (64%)]\tLoss: 0.119079\n",
            "Train Epoch: 6 [44800/60000 (75%)]\tLoss: 0.060430\n",
            "Train Epoch: 6 [51200/60000 (85%)]\tLoss: 0.122168\n",
            "Train Epoch: 6 [57600/60000 (96%)]\tLoss: 0.047095\n",
            "Train Epoch: 7 [0/60000 (0%)]\tLoss: 0.091723\n",
            "Train Epoch: 7 [6400/60000 (11%)]\tLoss: 0.179984\n",
            "Train Epoch: 7 [12800/60000 (21%)]\tLoss: 0.050207\n",
            "Train Epoch: 7 [19200/60000 (32%)]\tLoss: 0.053012\n",
            "Train Epoch: 7 [25600/60000 (43%)]\tLoss: 0.106212\n",
            "Train Epoch: 7 [32000/60000 (53%)]\tLoss: 0.176612\n",
            "Train Epoch: 7 [38400/60000 (64%)]\tLoss: 0.107310\n",
            "Train Epoch: 7 [44800/60000 (75%)]\tLoss: 0.112573\n",
            "Train Epoch: 7 [51200/60000 (85%)]\tLoss: 0.196966\n",
            "Train Epoch: 7 [57600/60000 (96%)]\tLoss: 0.084533\n",
            "Train Epoch: 8 [0/60000 (0%)]\tLoss: 0.082973\n",
            "Train Epoch: 8 [6400/60000 (11%)]\tLoss: 0.111803\n",
            "Train Epoch: 8 [12800/60000 (21%)]\tLoss: 0.027558\n",
            "Train Epoch: 8 [19200/60000 (32%)]\tLoss: 0.079937\n",
            "Train Epoch: 8 [25600/60000 (43%)]\tLoss: 0.067053\n",
            "Train Epoch: 8 [32000/60000 (53%)]\tLoss: 0.097220\n",
            "Train Epoch: 8 [38400/60000 (64%)]\tLoss: 0.012246\n",
            "Train Epoch: 8 [44800/60000 (75%)]\tLoss: 0.058201\n",
            "Train Epoch: 8 [51200/60000 (85%)]\tLoss: 0.043713\n",
            "Train Epoch: 8 [57600/60000 (96%)]\tLoss: 0.147355\n",
            "Train Epoch: 9 [0/60000 (0%)]\tLoss: 0.105122\n",
            "Train Epoch: 9 [6400/60000 (11%)]\tLoss: 0.034666\n",
            "Train Epoch: 9 [12800/60000 (21%)]\tLoss: 0.014364\n",
            "Train Epoch: 9 [19200/60000 (32%)]\tLoss: 0.121951\n",
            "Train Epoch: 9 [25600/60000 (43%)]\tLoss: 0.047139\n",
            "Train Epoch: 9 [32000/60000 (53%)]\tLoss: 0.061471\n",
            "Train Epoch: 9 [38400/60000 (64%)]\tLoss: 0.167189\n",
            "Train Epoch: 9 [44800/60000 (75%)]\tLoss: 0.171254\n",
            "Train Epoch: 9 [51200/60000 (85%)]\tLoss: 0.032716\n",
            "Train Epoch: 9 [57600/60000 (96%)]\tLoss: 0.053452\n"
          ]
        }
      ]
    },
    {
      "cell_type": "code",
      "source": [
        "test_dataset=datasets.MNIST('data',train=False,download=True,transform=transform)\n",
        "test_loader=torch.utils.data.DataLoader(test_dataset,batch_size=1000,shuffle=True)\n",
        "correct=0\n",
        "total=0\n",
        "with torch.no_grad():\n",
        "  output=net(data)\n",
        "  _,predicted=torch.max(output.data,1)\n",
        "  total+=target.size(0)\n",
        "  correct+=(predicted==target).sum().item()"
      ],
      "metadata": {
        "id": "nFLEmWtU4vvT"
      },
      "execution_count": 8,
      "outputs": []
    },
    {
      "cell_type": "code",
      "source": [
        "print('Accuracy of the network on the 10000 test images: %d %%' % (\n",
        "    100 * correct / total))\n",
        ""
      ],
      "metadata": {
        "colab": {
          "base_uri": "https://localhost:8080/"
        },
        "id": "B56SgLXc5CT6",
        "outputId": "e677cdac-6a01-4a31-fa8a-0c1cd764d46f"
      },
      "execution_count": 9,
      "outputs": [
        {
          "output_type": "stream",
          "name": "stdout",
          "text": [
            "Accuracy of the network on the 10000 test images: 100 %\n"
          ]
        }
      ]
    },
    {
      "cell_type": "code",
      "source": [],
      "metadata": {
        "id": "E25nHBom5bhV"
      },
      "execution_count": null,
      "outputs": []
    }
  ]
}