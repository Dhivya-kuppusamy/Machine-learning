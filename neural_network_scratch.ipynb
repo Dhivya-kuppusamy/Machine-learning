{
  "nbformat": 4,
  "nbformat_minor": 0,
  "metadata": {
    "colab": {
      "provenance": [],
      "include_colab_link": true
    },
    "kernelspec": {
      "name": "python3",
      "display_name": "Python 3"
    },
    "language_info": {
      "name": "python"
    }
  },
  "cells": [
    {
      "cell_type": "markdown",
      "metadata": {
        "id": "view-in-github",
        "colab_type": "text"
      },
      "source": [
        "<a href=\"https://colab.research.google.com/github/Dhivya-kuppusamy/Machine-learning/blob/main/neural_network_scratch.ipynb\" target=\"_parent\"><img src=\"https://colab.research.google.com/assets/colab-badge.svg\" alt=\"Open In Colab\"/></a>"
      ]
    },
    {
      "cell_type": "code",
      "execution_count": null,
      "metadata": {
        "id": "hwdx6aWwazkL"
      },
      "outputs": [],
      "source": [
        "import numpy as np\n",
        "import pandas as pd"
      ]
    },
    {
      "cell_type": "code",
      "source": [
        "x=np.array([[1,0,1,0],[1,0,1,1],[0,1,0,1]])"
      ],
      "metadata": {
        "id": "-9Vn5P7_Sqnl"
      },
      "execution_count": null,
      "outputs": []
    },
    {
      "cell_type": "code",
      "source": [
        "x"
      ],
      "metadata": {
        "id": "wMd2NsUCMmrP",
        "colab": {
          "base_uri": "https://localhost:8080/"
        },
        "outputId": "6733eae3-d12a-42ed-f8dc-a2562d494acb"
      },
      "execution_count": null,
      "outputs": [
        {
          "output_type": "execute_result",
          "data": {
            "text/plain": [
              "array([[1, 0, 1, 0],\n",
              "       [1, 0, 1, 1],\n",
              "       [0, 1, 0, 1]])"
            ]
          },
          "metadata": {},
          "execution_count": 3
        }
      ]
    },
    {
      "cell_type": "code",
      "source": [
        "y=np.array([[1],[0],[1]])"
      ],
      "metadata": {
        "id": "UestGR_GS1hh"
      },
      "execution_count": null,
      "outputs": []
    },
    {
      "cell_type": "code",
      "source": [
        "y"
      ],
      "metadata": {
        "colab": {
          "base_uri": "https://localhost:8080/"
        },
        "id": "k1gm1RY7TO8e",
        "outputId": "419ea49e-c23a-4eb0-87be-65c273d10970"
      },
      "execution_count": null,
      "outputs": [
        {
          "output_type": "execute_result",
          "data": {
            "text/plain": [
              "array([[1],\n",
              "       [0],\n",
              "       [1]])"
            ]
          },
          "metadata": {},
          "execution_count": 5
        }
      ]
    },
    {
      "cell_type": "code",
      "source": [
        "def sigmoid(x):\n",
        "  return 1/(1+np.exp(-x))"
      ],
      "metadata": {
        "id": "GRRRsOKVTPXL"
      },
      "execution_count": null,
      "outputs": []
    },
    {
      "cell_type": "code",
      "source": [
        "def derivative_sigmoid(x):\n",
        "  return x*(1-x)"
      ],
      "metadata": {
        "id": "OapTFIaXTiUd"
      },
      "execution_count": null,
      "outputs": []
    },
    {
      "cell_type": "code",
      "source": [
        "#pass input,epoch,learning rate,output\n",
        "epoch=5000\n",
        "lr=0.1\n",
        "input_neurons=x.shape[1]\n",
        "hidden_neurons=3\n",
        "output_neurons=1"
      ],
      "metadata": {
        "id": "u_vMZksmT6EZ"
      },
      "execution_count": null,
      "outputs": []
    },
    {
      "cell_type": "code",
      "source": [
        "wh=np.random.uniform(size=(input_neurons,hidden_neurons))\n",
        "bh=np.random.uniform(size=(1,hidden_neurons))\n",
        "wo=np.random.uniform(size=(hidden_neurons,hidden_neurons))\n",
        "bo=np.random.uniform(size=(1,hidden_neurons))"
      ],
      "metadata": {
        "id": "qVub3kpEUZSA"
      },
      "execution_count": null,
      "outputs": []
    },
    {
      "cell_type": "code",
      "source": [
        "for i in range(epoch):\n",
        "  #forward\n",
        "  hidden_input=np.dot(x,wh)\n",
        "  hidden_input=hidden_input+bh\n",
        "  hidden_activation=sigmoid(hidden_input)\n",
        "  output_layer=np.dot(hidden_activation,wo)\n",
        "  output=sigmoid(output_layer)\n",
        "  #backward\n",
        "  E=y-output\n",
        "  slope_output=derivative_sigmoid(output)\n",
        "  slope_hidden=derivative_sigmoid(hidden_activation)\n",
        "  d_output=E*slope_output\n",
        "  error_hidden=d_output.dot(wo.T)\n",
        "  d_hidden=error_hidden*slope_hidden\n",
        "  wo+=hidden_activation.T.dot(d_output)*lr\n",
        "  bo+=np.sum(d_output,axis=0,keepdims=True)*lr\n",
        "  wh+=x.T.dot(d_hidden)*lr\n",
        "  bh+=np.sum(d_hidden,axis=0,keepdims=True)*lr\n"
      ],
      "metadata": {
        "id": "zv9f3EJjU9Jo"
      },
      "execution_count": null,
      "outputs": []
    },
    {
      "cell_type": "code",
      "source": [
        "output"
      ],
      "metadata": {
        "colab": {
          "base_uri": "https://localhost:8080/"
        },
        "id": "5vl0tkodZGNh",
        "outputId": "00309e35-b7ae-4236-d184-ae6d95909cf3"
      },
      "execution_count": null,
      "outputs": [
        {
          "output_type": "execute_result",
          "data": {
            "text/plain": [
              "array([[0.96366825, 0.96265252, 0.96337156],\n",
              "       [0.05015713, 0.05083563, 0.05008501],\n",
              "       [0.97460269, 0.97446796, 0.9749077 ]])"
            ]
          },
          "metadata": {},
          "execution_count": 11
        }
      ]
    },
    {
      "cell_type": "code",
      "source": [
        "import numpy as np\n",
        "from sklearn import datasets\n",
        "from sklearn.model_selection import train_test_split\n",
        "\n",
        "# Load the Iris dataset\n",
        "iris = datasets.load_iris()\n",
        "X = iris.data\n",
        "y = iris.target.reshape(-1, 1)\n",
        "\n",
        "# Convert target variable to one-hot encoding\n",
        "y_one_hot = np.zeros((y.shape[0], np.unique(y).shape[0]))\n",
        "y_one_hot[np.arange(y.shape[0]), y.flatten()] = 1\n",
        "\n",
        "# Split the dataset into training and testing sets\n",
        "X_train, X_test, y_train, y_test = train_test_split(X, y_one_hot, test_size=0.2, random_state=42)\n",
        "\n",
        "# Normalize the features\n",
        "X_train /= np.max(X_train, axis=0)\n",
        "X_test /= np.max(X_test, axis=0)\n",
        "\n",
        "# Initialize variables\n",
        "epoch = 5000\n",
        "lr = 0.1\n",
        "input_neurons = X_train.shape[1]\n",
        "hidden_neurons = 5\n",
        "output_neurons = y_train.shape[1]\n",
        "\n",
        "# Initialize weights and bias\n",
        "wh = np.random.uniform(size=(input_neurons, hidden_neurons))\n",
        "bh = np.random.uniform(size=(1, hidden_neurons))\n",
        "wo = np.random.uniform(size=(hidden_neurons, output_neurons))\n",
        "bo = np.random.uniform(size=(1, output_neurons))\n",
        "\n",
        "# Training the model\n",
        "for i in range(epoch):\n",
        "    # Forward\n",
        "    hidden_input = np.dot(X_train, wh) + bh\n",
        "    hidden_activation = 1 / (1 + np.exp(-hidden_input))\n",
        "    output_layer = np.dot(hidden_activation, wo) + bo\n",
        "    output = 1 / (1 + np.exp(-output_layer))\n",
        "\n",
        "    # Backward\n",
        "    E = y_train - output\n",
        "    slope_output = output * (1 - output)\n",
        "    slope_hidden = hidden_activation * (1 - hidden_activation)\n",
        "\n",
        "    d_output = E * slope_output\n",
        "    error_hidden = d_output.dot(wo.T)\n",
        "    d_hidden = error_hidden * slope_hidden\n",
        "\n",
        "    # Update weights and bias\n",
        "    wo += hidden_activation.T.dot(d_output) * lr\n",
        "    bo += np.sum(d_output, axis=0, keepdims=True) * lr\n",
        "    wh += X_train.T.dot(d_hidden) * lr\n",
        "    bh += np.sum(d_hidden, axis=0, keepdims=True) * lr\n",
        "\n",
        "# Forward pass on test data\n",
        "hidden_input_test = np.dot(X_test, wh) + bh\n",
        "hidden_activation_test = 1 / (1 + np.exp(-hidden_input_test))\n",
        "output_layer_test = np.dot(hidden_activation_test, wo) + bo\n",
        "output_test = 1 / (1 + np.exp(-output_layer_test))\n",
        "\n",
        "# Convert predicted probabilities to class labels\n",
        "predicted_labels = np.argmax(output_test, axis=1)\n",
        "true_labels = np.argmax(y_test, axis=1)\n",
        "\n",
        "# Calculate accuracy\n",
        "accuracy = np.mean(predicted_labels == true_labels)\n",
        "print(\"Accuracy:\", accuracy)"
      ],
      "metadata": {
        "id": "H1e_hmDZZHZS",
        "outputId": "61530259-7463-44c8-a993-964ab46631ab",
        "colab": {
          "base_uri": "https://localhost:8080/"
        }
      },
      "execution_count": null,
      "outputs": [
        {
          "output_type": "stream",
          "name": "stdout",
          "text": [
            "Accuracy: 0.9666666666666667\n"
          ]
        }
      ]
    },
    {
      "cell_type": "code",
      "source": [],
      "metadata": {
        "id": "jOhj2BRybcgq"
      },
      "execution_count": null,
      "outputs": []
    }
  ]
}