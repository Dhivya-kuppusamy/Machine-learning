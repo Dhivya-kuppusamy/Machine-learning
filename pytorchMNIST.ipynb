{
  "nbformat": 4,
  "nbformat_minor": 0,
  "metadata": {
    "colab": {
      "provenance": [],
      "authorship_tag": "ABX9TyNV774LudM6NyWJbpnURa32",
      "include_colab_link": true
    },
    "kernelspec": {
      "name": "python3",
      "display_name": "Python 3"
    },
    "language_info": {
      "name": "python"
    }
  },
  "cells": [
    {
      "cell_type": "markdown",
      "metadata": {
        "id": "view-in-github",
        "colab_type": "text"
      },
      "source": [
        "<a href=\"https://colab.research.google.com/github/Dhivya-kuppusamy/Machine-learning/blob/main/pytorchMNIST.ipynb\" target=\"_parent\"><img src=\"https://colab.research.google.com/assets/colab-badge.svg\" alt=\"Open In Colab\"/></a>"
      ]
    },
    {
      "cell_type": "code",
      "execution_count": 1,
      "metadata": {
        "id": "detzk-ox5_5R"
      },
      "outputs": [],
      "source": [
        "import torch\n",
        "import torchvision.datasets as datasets\n",
        "import torchvision.transforms as transforms\n",
        "import torch.nn as nn\n",
        "import torch.optim as optim"
      ]
    },
    {
      "cell_type": "code",
      "source": [
        "# Define your Neural network\n",
        "class Neural(nn.Module):\n",
        "    def __init__(self):\n",
        "        super(Neural, self).__init__()\n",
        "        self.fc1 = nn.Linear(28 * 28, 128)\n",
        "        self.fc2 = nn.Linear(128, 64)  # Added hidden layer\n",
        "        self.fc3 = nn.Linear(64, 10)   # Output layer\n",
        "        self.dropout = nn.Dropout(0.3)\n",
        "\n",
        "    def forward(self, x):\n",
        "        x = x.view(-1, 28 * 28)\n",
        "        x = torch.relu(self.fc1(x))\n",
        "        x = torch.relu(self.fc2(x))  # Apply activation to the hidden layer\n",
        "        x = self.fc3(x)\n",
        "        return x\n"
      ],
      "metadata": {
        "id": "ZJwCmq-C7eW4"
      },
      "execution_count": 23,
      "outputs": []
    },
    {
      "cell_type": "code",
      "source": [
        "transform = transforms.Compose([\n",
        "    transforms.ToTensor(),\n",
        "    transforms.Normalize((0.5,), (0.5,))\n",
        "])\n",
        "\n",
        "train_dataset = datasets.MNIST(root='./data', train=True, download=True, transform=transform)\n",
        "test_dataset = datasets.MNIST(root='./data', train=False, download=True, transform=transform)\n",
        "\n",
        "train_loader = torch.utils.data.DataLoader(train_dataset, batch_size=64, shuffle=True)\n",
        "test_loader = torch.utils.data.DataLoader(test_dataset, batch_size=64, shuffle=False)\n"
      ],
      "metadata": {
        "id": "FuLn3dbv76UD"
      },
      "execution_count": 24,
      "outputs": []
    },
    {
      "cell_type": "code",
      "source": [
        "net = Neural()"
      ],
      "metadata": {
        "id": "vg5iSkSo794_"
      },
      "execution_count": 25,
      "outputs": []
    },
    {
      "cell_type": "code",
      "source": [
        "criterion = nn.CrossEntropyLoss()\n",
        "optimizer = optim.SGD(net.parameters(), lr=0.01)\n"
      ],
      "metadata": {
        "id": "1oC94H1T8APJ"
      },
      "execution_count": 26,
      "outputs": []
    },
    {
      "cell_type": "code",
      "source": [
        "def calculate_accuracy(loader):\n",
        "    correct = 0\n",
        "    total = 0\n",
        "    with torch.no_grad():\n",
        "        for data in loader:\n",
        "            images, labels = data\n",
        "            outputs = net(images)\n",
        "            _, predicted = torch.max(outputs.data, 1)\n",
        "            total += labels.size(0)\n",
        "            correct += (predicted == labels).sum().item()\n",
        "    return (correct / total) * 100"
      ],
      "metadata": {
        "id": "m-FLg0iH8Chv"
      },
      "execution_count": 27,
      "outputs": []
    },
    {
      "cell_type": "code",
      "source": [
        "epochs = 10\n",
        "for epoch in range(epochs):\n",
        "    running_loss = 0.0\n",
        "    for i, data in enumerate(train_loader, 0):\n",
        "        inputs, labels = data\n",
        "        optimizer.zero_grad()\n",
        "\n",
        "        outputs = net(inputs)\n",
        "        loss = criterion(outputs, labels)\n",
        "        loss.backward()\n",
        "        optimizer.step()\n",
        "\n",
        "        running_loss += loss.item()\n",
        "        if i % 100 == 99:\n",
        "            print(f\"[Epoch {epoch + 1}, Batch {i + 1}] Loss: {running_loss / 100:.3f}\")\n",
        "            running_loss = 0.0"
      ],
      "metadata": {
        "colab": {
          "base_uri": "https://localhost:8080/"
        },
        "id": "Yr95fnr28Ev-",
        "outputId": "258db3bf-9df6-44e9-e1aa-51877453dc03"
      },
      "execution_count": 30,
      "outputs": [
        {
          "output_type": "stream",
          "name": "stdout",
          "text": [
            "[Epoch 1, Batch 100] Loss: 0.179\n",
            "[Epoch 1, Batch 200] Loss: 0.156\n",
            "[Epoch 1, Batch 300] Loss: 0.164\n",
            "[Epoch 1, Batch 400] Loss: 0.150\n",
            "[Epoch 1, Batch 500] Loss: 0.160\n",
            "[Epoch 1, Batch 600] Loss: 0.161\n",
            "[Epoch 1, Batch 700] Loss: 0.169\n",
            "[Epoch 1, Batch 800] Loss: 0.164\n",
            "[Epoch 1, Batch 900] Loss: 0.160\n",
            "[Epoch 2, Batch 100] Loss: 0.156\n",
            "[Epoch 2, Batch 200] Loss: 0.165\n",
            "[Epoch 2, Batch 300] Loss: 0.146\n",
            "[Epoch 2, Batch 400] Loss: 0.153\n",
            "[Epoch 2, Batch 500] Loss: 0.150\n",
            "[Epoch 2, Batch 600] Loss: 0.141\n",
            "[Epoch 2, Batch 700] Loss: 0.154\n",
            "[Epoch 2, Batch 800] Loss: 0.162\n",
            "[Epoch 2, Batch 900] Loss: 0.144\n",
            "[Epoch 3, Batch 100] Loss: 0.139\n",
            "[Epoch 3, Batch 200] Loss: 0.141\n",
            "[Epoch 3, Batch 300] Loss: 0.152\n",
            "[Epoch 3, Batch 400] Loss: 0.138\n",
            "[Epoch 3, Batch 500] Loss: 0.149\n",
            "[Epoch 3, Batch 600] Loss: 0.148\n",
            "[Epoch 3, Batch 700] Loss: 0.146\n",
            "[Epoch 3, Batch 800] Loss: 0.132\n",
            "[Epoch 3, Batch 900] Loss: 0.141\n",
            "[Epoch 4, Batch 100] Loss: 0.140\n",
            "[Epoch 4, Batch 200] Loss: 0.135\n",
            "[Epoch 4, Batch 300] Loss: 0.144\n",
            "[Epoch 4, Batch 400] Loss: 0.143\n",
            "[Epoch 4, Batch 500] Loss: 0.131\n",
            "[Epoch 4, Batch 600] Loss: 0.130\n",
            "[Epoch 4, Batch 700] Loss: 0.125\n",
            "[Epoch 4, Batch 800] Loss: 0.138\n",
            "[Epoch 4, Batch 900] Loss: 0.129\n",
            "[Epoch 5, Batch 100] Loss: 0.129\n",
            "[Epoch 5, Batch 200] Loss: 0.118\n",
            "[Epoch 5, Batch 300] Loss: 0.123\n",
            "[Epoch 5, Batch 400] Loss: 0.132\n",
            "[Epoch 5, Batch 500] Loss: 0.137\n",
            "[Epoch 5, Batch 600] Loss: 0.130\n",
            "[Epoch 5, Batch 700] Loss: 0.131\n",
            "[Epoch 5, Batch 800] Loss: 0.125\n",
            "[Epoch 5, Batch 900] Loss: 0.123\n",
            "[Epoch 6, Batch 100] Loss: 0.124\n",
            "[Epoch 6, Batch 200] Loss: 0.116\n",
            "[Epoch 6, Batch 300] Loss: 0.133\n",
            "[Epoch 6, Batch 400] Loss: 0.118\n",
            "[Epoch 6, Batch 500] Loss: 0.127\n",
            "[Epoch 6, Batch 600] Loss: 0.116\n",
            "[Epoch 6, Batch 700] Loss: 0.117\n",
            "[Epoch 6, Batch 800] Loss: 0.122\n",
            "[Epoch 6, Batch 900] Loss: 0.114\n",
            "[Epoch 7, Batch 100] Loss: 0.116\n",
            "[Epoch 7, Batch 200] Loss: 0.105\n",
            "[Epoch 7, Batch 300] Loss: 0.115\n",
            "[Epoch 7, Batch 400] Loss: 0.116\n",
            "[Epoch 7, Batch 500] Loss: 0.103\n",
            "[Epoch 7, Batch 600] Loss: 0.120\n",
            "[Epoch 7, Batch 700] Loss: 0.114\n",
            "[Epoch 7, Batch 800] Loss: 0.125\n",
            "[Epoch 7, Batch 900] Loss: 0.118\n",
            "[Epoch 8, Batch 100] Loss: 0.114\n",
            "[Epoch 8, Batch 200] Loss: 0.102\n",
            "[Epoch 8, Batch 300] Loss: 0.124\n",
            "[Epoch 8, Batch 400] Loss: 0.104\n",
            "[Epoch 8, Batch 500] Loss: 0.112\n",
            "[Epoch 8, Batch 600] Loss: 0.116\n",
            "[Epoch 8, Batch 700] Loss: 0.106\n",
            "[Epoch 8, Batch 800] Loss: 0.092\n",
            "[Epoch 8, Batch 900] Loss: 0.100\n",
            "[Epoch 9, Batch 100] Loss: 0.113\n",
            "[Epoch 9, Batch 200] Loss: 0.108\n",
            "[Epoch 9, Batch 300] Loss: 0.102\n",
            "[Epoch 9, Batch 400] Loss: 0.102\n",
            "[Epoch 9, Batch 500] Loss: 0.102\n",
            "[Epoch 9, Batch 600] Loss: 0.097\n",
            "[Epoch 9, Batch 700] Loss: 0.106\n",
            "[Epoch 9, Batch 800] Loss: 0.097\n",
            "[Epoch 9, Batch 900] Loss: 0.099\n",
            "[Epoch 10, Batch 100] Loss: 0.104\n",
            "[Epoch 10, Batch 200] Loss: 0.098\n",
            "[Epoch 10, Batch 300] Loss: 0.102\n",
            "[Epoch 10, Batch 400] Loss: 0.097\n",
            "[Epoch 10, Batch 500] Loss: 0.102\n",
            "[Epoch 10, Batch 600] Loss: 0.101\n",
            "[Epoch 10, Batch 700] Loss: 0.103\n",
            "[Epoch 10, Batch 800] Loss: 0.088\n",
            "[Epoch 10, Batch 900] Loss: 0.086\n"
          ]
        }
      ]
    },
    {
      "cell_type": "code",
      "source": [
        "train_accuracy = calculate_accuracy(train_loader)\n",
        "test_accuracy = calculate_accuracy(test_loader)\n",
        "print(f\"Epoch {epoch + 1} - Training Accuracy: {train_accuracy:.2f}% | Test Accuracy: {test_accuracy:.2f}%\")"
      ],
      "metadata": {
        "colab": {
          "base_uri": "https://localhost:8080/"
        },
        "id": "7tw3Wf9P8Hep",
        "outputId": "b4e50944-c160-4842-ffcb-61fb88cc12a4"
      },
      "execution_count": 32,
      "outputs": [
        {
          "output_type": "stream",
          "name": "stdout",
          "text": [
            "Epoch 10 - Training Accuracy: 97.30% | Test Accuracy: 96.79%\n"
          ]
        }
      ]
    },
    {
      "cell_type": "code",
      "source": [],
      "metadata": {
        "id": "3mX-YFXd8fwj"
      },
      "execution_count": null,
      "outputs": []
    }
  ]
}